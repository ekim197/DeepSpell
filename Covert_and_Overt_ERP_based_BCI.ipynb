{
  "nbformat": 4,
  "nbformat_minor": 0,
  "metadata": {
    "accelerator": "GPU",
    "colab": {
      "name": "Covert and Overt ERP-based BCI.ipynb",
      "provenance": [],
      "collapsed_sections": [
        "Fm57U5K1MxcE"
      ],
      "toc_visible": true,
      "machine_shape": "hm"
    },
    "kernelspec": {
      "display_name": "Python 3",
      "name": "python3"
    },
    "language_info": {
      "name": "python"
    }
  },
  "cells": [
    {
      "cell_type": "markdown",
      "metadata": {
        "id": "INnoiGUhS6B5"
      },
      "source": [
        "Dataset: <br>\n",
        "Paper: [Influence of P300 latency jitter on event related potential-based brain–computer interface performance](https://iopscience.iop.org/article/10.1088/1741-2560/11/3/035008/pdf)"
      ]
    },
    {
      "cell_type": "markdown",
      "metadata": {
        "id": "QOtdpT46OFmq"
      },
      "source": [
        "# Import"
      ]
    },
    {
      "cell_type": "code",
      "metadata": {
        "id": "MuJyorjLntFF",
        "colab": {
          "base_uri": "https://localhost:8080/"
        },
        "outputId": "a9dad1e2-ba3f-4242-f97b-03a8281f0d79"
      },
      "source": [
        "!apt install octave >> /dev/null\n",
        "!pip install oct2py >> /dev/null"
      ],
      "execution_count": null,
      "outputs": [
        {
          "output_type": "stream",
          "name": "stdout",
          "text": [
            "\n",
            "WARNING: apt does not have a stable CLI interface. Use with caution in scripts.\n",
            "\n",
            "Extracting templates from packages: 100%\n"
          ]
        }
      ]
    },
    {
      "cell_type": "code",
      "metadata": {
        "id": "BrncsmNDNvmU"
      },
      "source": [
        "from google.colab import drive\n",
        "\n",
        "import scipy.io\n",
        "import os\n",
        "import math\n",
        "from scipy import stats\n",
        "from oct2py import Oct2Py\n",
        "from oct2py import octave\n",
        "\n",
        "from itertools import combinations\n",
        "import numpy as np\n",
        "import matplotlib.pyplot as plt\n",
        "import seaborn as sns\n",
        "import pandas as pd\n",
        "from statistics import mean\n",
        "\n",
        "from tqdm import tqdm"
      ],
      "execution_count": null,
      "outputs": []
    },
    {
      "cell_type": "code",
      "metadata": {
        "id": "Cgl3BeefjDWo"
      },
      "source": [
        "# for training the model\n",
        "from tensorflow.keras.models import Model\n",
        "from tensorflow.keras.layers import Dense, Activation, Permute, Dropout\n",
        "from tensorflow.keras.layers import Conv2D, MaxPooling2D, AveragePooling2D\n",
        "from tensorflow.keras.layers import SeparableConv2D, DepthwiseConv2D\n",
        "from tensorflow.keras.layers import BatchNormalization\n",
        "from tensorflow.keras.layers import SpatialDropout2D\n",
        "from tensorflow.keras.layers import Input, Flatten\n",
        "from tensorflow.keras.regularizers import l1_l2\n",
        "from tensorflow.keras.constraints import max_norm\n",
        "from tensorflow.keras.utils import to_categorical\n",
        "from tensorflow.keras import backend as K\n",
        "import tensorflow as tf\n",
        "\n",
        "from sklearn.model_selection import train_test_split\n",
        "from sklearn.model_selection import cross_val_score\n",
        "from sklearn.metrics import accuracy_score\n",
        "from sklearn.model_selection import KFold\n",
        "from sklearn.discriminant_analysis import LinearDiscriminantAnalysis\n",
        "from sklearn.decomposition import PCA\n",
        "from sklearn.pipeline import Pipeline\n",
        "from sklearn.cross_decomposition import CCA"
      ],
      "execution_count": null,
      "outputs": []
    },
    {
      "cell_type": "code",
      "metadata": {
        "id": "W2amVBwh-FV3"
      },
      "source": [
        "import tensorflow_probability as tfp\n",
        "dist = tfp.distributions"
      ],
      "execution_count": null,
      "outputs": []
    },
    {
      "cell_type": "code",
      "metadata": {
        "colab": {
          "base_uri": "https://localhost:8080/"
        },
        "id": "U4vi3rlZOO3J",
        "outputId": "dba5e347-b9b8-4386-b182-ed4c71150f9b"
      },
      "source": [
        "drive.mount('/content/drive')"
      ],
      "execution_count": null,
      "outputs": [
        {
          "output_type": "stream",
          "name": "stdout",
          "text": [
            "Mounted at /content/drive\n"
          ]
        }
      ]
    },
    {
      "cell_type": "code",
      "metadata": {
        "colab": {
          "base_uri": "https://localhost:8080/"
        },
        "id": "oQlO8NKqOUhM",
        "outputId": "63cedffb-91cf-4ce9-b12e-c21909f15965"
      },
      "source": [
        "# please create a shortcut of EEG Speller folder in the home page of drive before running this cell\n",
        "%cd '/content/drive/MyDrive/EEG Speller'"
      ],
      "execution_count": null,
      "outputs": [
        {
          "output_type": "stream",
          "name": "stdout",
          "text": [
            "/content/drive/.shortcut-targets-by-id/1Eod78EztGxtaKeNvgBhj15rYJrdlDjG_/EEG Speller\n"
          ]
        }
      ]
    },
    {
      "cell_type": "markdown",
      "metadata": {
        "id": "JN5MQxz7007x"
      },
      "source": [
        "# Constants"
      ]
    },
    {
      "cell_type": "code",
      "metadata": {
        "id": "D1ejLwfk0icQ"
      },
      "source": [
        "recording_freq = 256\n",
        "timepoint_to_ms = 1 / recording_freq * 1000\n",
        "epoch_length = 800\n",
        "ms_to_timepoint = 1 / timepoint_to_ms\n",
        "channels = ['Fz', 'Cz', 'Pz', 'Oz', 'P3', 'P4', 'PO7', 'PO8', 'F3', 'F4',\n",
        "        'FCz', 'C3', 'C4', 'CP3', 'CPz', 'CP4']\n",
        "meta = {\n",
        "  'recording_freq':recording_freq, # unit: Hz\n",
        "  'inter_stimulus_duration':32, # unit: timepoint\n",
        "  'stimulus_duration':32, # unit: timepoint\n",
        "  'stimulation_num':8,\n",
        "  'timepoint_to_ms':timepoint_to_ms, # equals 3.90625 ms/timepoint\n",
        "  'ms_to_timepoint':ms_to_timepoint, # equals 0.256 timepoint/ms\n",
        "  'run_num':3,\n",
        "  'trial_num':6,\n",
        "  'target_num':2,\n",
        "  'inter_trial_interval': 512, # unit: timepoint \n",
        "  'non_target_num':10,\n",
        "  'stimuli_num': 36, # 6 by 6 grdi speller\n",
        "  'channel_num':len(channels),\n",
        "  'epoch_length': epoch_length, # unit: ms\n",
        "  'epoch_length_timepoint':int(epoch_length * ms_to_timepoint), # unit: timepoint\n",
        "  'labels':{\"idle\": 0, \"non-target\": 1, \"target\": 2},\n",
        "  'trials':[1544, 9736, 17928, 26120, 34312, 42504],\n",
        "  'channels':channels, # the exact same order as X\n",
        "  'subjects_num':10,\n",
        "  'total_targets':12,\n",
        "  'soa': 64 # unit: timepoint\n",
        "}\n",
        "\n",
        "soa = meta['soa'] * meta['timepoint_to_ms'] / 1000 # convert to seconds\n",
        "iti = meta['inter_trial_interval'] * meta['timepoint_to_ms'] / 1000 \n",
        "isi = meta['inter_stimulus_duration'] * meta['timepoint_to_ms'] / 1000 "
      ],
      "execution_count": null,
      "outputs": []
    },
    {
      "cell_type": "markdown",
      "metadata": {
        "id": "7B5crR41xKjz"
      },
      "source": [
        "## Set seed"
      ]
    },
    {
      "cell_type": "code",
      "metadata": {
        "id": "20aT0iuzxMeC"
      },
      "source": [
        "RANDOM_SEED = 2021\n",
        "np.random.seed(RANDOM_SEED)\n",
        "tf.random.set_seed(RANDOM_SEED) "
      ],
      "execution_count": null,
      "outputs": []
    },
    {
      "cell_type": "markdown",
      "metadata": {
        "id": "58AwA8fWWsVG"
      },
      "source": [
        "# Description of the dataset P300\n",
        "* 3 runs per session, 6 trials (i.e. character) per run, 8 simulations per trial, 12 classes (10 targets + 2 non targets). \n",
        "* 16 channels, 10-10 montage\n",
        "* y (0:idle, 1:non-target, 2:target)\n",
        "* y_stim (0: idle, 1: class1, 2: class2, ... 12: class12)\n",
        "* 256 Hz, 3.90625 ms/timepoint"
      ]
    },
    {
      "cell_type": "markdown",
      "metadata": {
        "id": "2nu9ocRYowG0"
      },
      "source": [
        "## Helper Functions"
      ]
    },
    {
      "cell_type": "code",
      "metadata": {
        "id": "3mJeKN9wovbA"
      },
      "source": [
        "def get_dict_from_data(patient_data):\n",
        "  # Params:\n",
        "  #   patient_data: the unprocessed individual patient data (i.e. already indexed)\n",
        "  # Return:\n",
        "  #   dictionary consisting of:\n",
        "  #   X: (run, timepoints, channels)\n",
        "  #   y: (run, timepoints * stimulations * (target))\n",
        "  #   y_stim (run, timepoints, 13)\n",
        "  #   channels: 1d-array\n",
        "  #   trial: 1d-array\n",
        "  #   fs: int\n",
        "\n",
        "  data = patient_data['data']\n",
        "  # removing redundent dimension\n",
        "  data = data[0][:]\n",
        "  filtered_data = [] # (run, None), second dimension is not fixed\n",
        "  for i, run in enumerate(data):\n",
        "    filtered_data.append(run[0][0])\n",
        "\n",
        "  X_stack = [] \n",
        "  y_stack = []  \n",
        "  y_stim_stack = []\n",
        "  for i, run in enumerate(filtered_data):\n",
        "    channels = np.concatenate(run[0][0])\n",
        "    X = run[1]\n",
        "    y = np.squeeze(run[2])\n",
        "    y_stim = np.squeeze(run[3])\n",
        "    trial = np.squeeze(run[4]) - 1 # the trial is shifted by one for some reason\n",
        "    fs = np.squeeze(run[5])\n",
        "    X_stack.append(X)\n",
        "    y_stack.append(y)\n",
        "    y_stim_stack.append(y_stim)\n",
        "  X_stack = np.stack(X_stack, axis=0) \n",
        "  y_stack = np.stack(y_stack, axis=0)\n",
        "  y_stim_stack = np.stack(y_stim_stack, axis=0)\n",
        "  return dict(channels=channels, X=X_stack, y=y_stack, y_stim=y_stim_stack, trial=trial, fs=fs)"
      ],
      "execution_count": null,
      "outputs": []
    },
    {
      "cell_type": "code",
      "metadata": {
        "id": "OA4_5fqpI-HY"
      },
      "source": [
        "def get_epoch_data(patient_dict, meta):\n",
        "  # Params:\n",
        "  #   patient_dict: dictionary of the patient data\n",
        "  #   meta: meta data of the recording\n",
        "  #\n",
        "  # Return:\n",
        "  #   epoched_potential: (run_num, trial_num, stimulation_num, (target_num + non_target_num), epoch_length_timepoint, channel_num)\n",
        "  #   epoched_label: (run_num, trial_num, stimulation_num, (target_num + non_target_num))\n",
        "\n",
        "  epoch_length_timepoint = meta['epoch_length_timepoint']\n",
        "  channel_num = meta['channel_num']\n",
        "  run_num = meta['run_num']\n",
        "  trial_num = len(meta['trials'])\n",
        "  stimulation_num = meta['stimulation_num']\n",
        "  target_num = meta['target_num']\n",
        "  non_target_num = meta['non_target_num']\n",
        "  trials = meta['trials']\n",
        "  labels = meta['labels']\n",
        "  stimulus_duration = meta['stimulus_duration']\n",
        "  inter_stimulus_duration = meta['inter_stimulus_duration']\n",
        "\n",
        "  epoched_potential = np.zeros([run_num, trial_num, stimulation_num, target_num + non_target_num, epoch_length_timepoint, channel_num])\n",
        "  epoched_label = np.zeros([run_num, trial_num, stimulation_num, target_num + non_target_num])\n",
        "  epoched_label_stim = np.zeros([run_num, trial_num, stimulation_num, target_num + non_target_num])\n",
        "\n",
        "  count = 0\n",
        "  for i in range(run_num):\n",
        "    for j, trial in enumerate(trials):\n",
        "      counter = trial\n",
        "      for k in range(stimulation_num):\n",
        "        for l in range(target_num + non_target_num):\n",
        "          label = patient_dict['y'][i][counter]\n",
        "          label_stim = patient_dict['y_stim'][i][counter]\n",
        "          data = patient_dict['X'][i][counter: counter + epoch_length_timepoint, :]\n",
        "          epoched_potential[i, j, k, l, :, :] = data\n",
        "          if label == labels[\"target\"]:\n",
        "            epoched_label[i, j, k, l] = meta['labels']['target']\n",
        "            count += 1\n",
        "          elif label == labels[\"non-target\"]:\n",
        "            epoched_label[i, j, k, l] = meta['labels']['non-target']\n",
        "            count += 1\n",
        "          epoched_label_stim[i, j, k, l] = label_stim\n",
        "          counter += stimulus_duration + inter_stimulus_duration\n",
        "  assert (count == run_num * trial_num * stimulation_num * (target_num + non_target_num)), \"epoch label mismatch! please inspect the epoch labels\"\n",
        "  \n",
        "  # re-aligned stimulations such that all stimulations can be ordered the same\n",
        "  mask = epoched_label_stim - 1 # make zero-based\n",
        "  for i in range(run_num):\n",
        "    for j in range(trial_num):\n",
        "      rows = np.repeat(np.arange(len(epoched_label[i, j]))[:, None], epoched_label[i, j].shape[1], axis=1)\n",
        "      columns = mask[i, j].astype(np.int).argsort()\n",
        "      epoched_label[i, j] = epoched_label[i, j][rows, columns]\n",
        "      epoched_potential[i, j] = epoched_potential[i, j, rows, columns, :, :]\n",
        "\n",
        "  # reshape to desired\n",
        "  return epoched_potential, epoched_label, epoched_label_stim"
      ],
      "execution_count": null,
      "outputs": []
    },
    {
      "cell_type": "code",
      "metadata": {
        "id": "l5ted93vyHiK"
      },
      "source": [
        "def separate_rows_columns(epoched_data, epoched_label):\n",
        "  '''\n",
        "  Args:\n",
        "   epoched_data: (run_num, trial_num, stimulation_num, (target_num + non_target_num), epoch_length_timepoint, channel_num)\n",
        "   epoched_label: (run_num, trial_num, stimulation_num, (target_num + non_target_num))\n",
        "\n",
        "  Return:\n",
        "    epoched_data_separated: (run_num, trial_num, stimulation_num, 2, total_targets / 2, epoch_length_timepoint, channel_num)\n",
        "    epoched_label_separated: (run_num, trial_num, stimulation_num, 2, total_targets / 2)\n",
        "  \n",
        "  '''\n",
        "\n",
        "  channel_num = meta['channel_num']\n",
        "  run_num = meta['run_num']\n",
        "  trial_num = len(meta['trials'])\n",
        "  stimulation_num = meta['stimulation_num']\n",
        "  total_targets = meta['total_targets']\n",
        "  epoch_length_timepoint = meta['epoch_length_timepoint']\n",
        "\n",
        "  num_rows_cols = int(total_targets / 2)\n",
        "\n",
        "  epoched_data_separated = np.empty([run_num, trial_num, stimulation_num, 2, num_rows_cols, epoch_length_timepoint, channel_num])\n",
        "  epoched_label_separated = np.empty([run_num, trial_num, stimulation_num, 2, num_rows_cols])\n",
        "\n",
        "  # Separating the data/labels into (2, total_targets) -> first 6 are row values, last 6 are col values\n",
        "  for i in range(run_num):\n",
        "    for j in range(trial_num):\n",
        "      for k in range(stimulation_num):\n",
        "        # Separating the labels\n",
        "        cur_labels = np.expand_dims(epoched_label[i, j, k], axis = 1)\n",
        "        split_label = np.vsplit(cur_labels, 2)\n",
        "        epoched_label_separated[i, j, k, 0] = split_label[0].squeeze()\n",
        "        epoched_label_separated[i, j, k, 1] = split_label[1].squeeze()\n",
        "\n",
        "        # Separating the data (please double check this part, the y has been verified)\n",
        "        cur_data = epoched_data[i, j, k]\n",
        "        split_data = np.vsplit(cur_data, 2)\n",
        "        epoched_data_separated[i, j, k, 0] = split_data[0]\n",
        "        epoched_data_separated[i, j, k, 1] = split_data[1]\n",
        "        \n",
        "  return epoched_data_separated, epoched_label_separated\n"
      ],
      "execution_count": null,
      "outputs": []
    },
    {
      "cell_type": "code",
      "metadata": {
        "id": "FVrZsQdGXbu-"
      },
      "source": [
        "def generate_class_weights(y, n_classes):\n",
        "  '''\n",
        "  Args: \n",
        "    y (int array): (n_samples,) from 0, ..., n_classes\n",
        "  '''\n",
        "  weights = len(y) / (n_classes * np.bincount(y))\n",
        "  class_weights = {}\n",
        "  for i in range(n_classes):\n",
        "    class_weights[i] = weights[i]\n",
        "  return class_weights"
      ],
      "execution_count": null,
      "outputs": []
    },
    {
      "cell_type": "code",
      "metadata": {
        "id": "gQQxiYhaLdi_"
      },
      "source": [
        "def calculateITR(accuracy, soa, num_stimulation_row, num_stimulation_col, inter_trial_interval, num_stimuli):\n",
        "  '''\n",
        "  Args:\n",
        "    accuracy            (int)\n",
        "    soa                 (int)\n",
        "    num_stimulation_row (int)\n",
        "    num_stimulation_col (int)\n",
        "    inter_trial_interal (int)\n",
        "    num_stimuli         (int)\n",
        "  '''\n",
        "  accuracy = 0.99999 if 1 else accuracy # Avoid taking log of 0\n",
        "  B = math.log(num_stimuli, 2) + accuracy * math.log(accuracy, 2) + ((1-accuracy) * math.log((1-accuracy)/(num_stimuli - 1), 2))\n",
        "  T = ((soa * ((num_stimulation_row * 6) + (num_stimulation_col * 6))) + inter_trial_interval) / 60\n",
        "  return B, T, B/T"
      ],
      "execution_count": null,
      "outputs": []
    },
    {
      "cell_type": "markdown",
      "metadata": {
        "id": "ISlxHGMTKVco"
      },
      "source": [
        "## Load all patient data"
      ]
    },
    {
      "cell_type": "code",
      "metadata": {
        "id": "gKyCQySKOu-2"
      },
      "source": [
        "data_path = \"data/Covert and overt ERP-based BCI (009-2014)/P300 Speller\"\n",
        "patient_data = [scipy.io.loadmat(os.path.join(data_path, file)) for file in os.listdir(data_path)]"
      ],
      "execution_count": null,
      "outputs": []
    },
    {
      "cell_type": "markdown",
      "metadata": {
        "id": "RSTIU_WyQqiF"
      },
      "source": [
        "## Take a look at AO1S"
      ]
    },
    {
      "cell_type": "code",
      "metadata": {
        "id": "3ShYvxbFP8qO"
      },
      "source": [
        "patient_1 = get_dict_from_data(patient_data[0])"
      ],
      "execution_count": null,
      "outputs": []
    },
    {
      "cell_type": "markdown",
      "metadata": {
        "id": "7GkO0E4KIdIV"
      },
      "source": [
        "Epoch the data"
      ]
    },
    {
      "cell_type": "code",
      "metadata": {
        "id": "UAriGPL81qxF"
      },
      "source": [
        "X, y, epoched_label_stim = get_epoch_data(patient_1, meta)\n",
        "X_all_stims = X.reshape([-1, X.shape[-2], X.shape[-1]])\n",
        "y_all_stims = y.reshape([-1])\n",
        "target_avg_potential = X_all_stims[y_all_stims == meta['labels']['target'], :, :].mean(axis=0)\n",
        "non_target_avg_potential = X_all_stims[y_all_stims == meta['labels']['non-target'], :, :].mean(axis=0)"
      ],
      "execution_count": null,
      "outputs": []
    },
    {
      "cell_type": "markdown",
      "metadata": {
        "id": "oEVCEWK5QpoB"
      },
      "source": [
        "Averaged P300 potential waveforms at the Cz electrode position obtained from a representative subject using the P300\n",
        "interfaces. <br>\n",
        "Note: overlapping epochs"
      ]
    },
    {
      "cell_type": "code",
      "metadata": {
        "colab": {
          "base_uri": "https://localhost:8080/",
          "height": 301
        },
        "id": "70LLNQuSYYiS",
        "outputId": "b2ef2e18-096b-487d-8cc4-2f5e606c9865"
      },
      "source": [
        "ncols = 5\n",
        "nrows = 3\n",
        "xmin, xmax = 0, epoch_length\n",
        "ymin, ymax = -50, 50\n",
        "plt.figure(figsize=(26, 8))\n",
        "channels_to_try = ['Cz', 'P3', 'P4', 'PO7', 'C3', 'C4', 'CP3']\n",
        "\n",
        "for i, channel in enumerate(channels_to_try):\n",
        "  plt.subplot(nrows, ncols, i + 1)\n",
        "  channel_idx = meta['channels'].index(channel)\n",
        "  xticks = np.linspace(0, meta['epoch_length'], meta['epoch_length_timepoint'])\n",
        "  ax = sns.lineplot(x=xticks, y=target_avg_potential[:, channel_idx], label='target')\n",
        "  ax.set_title(channel)\n",
        "  ax.set_xlim(xmin, xmax)\n",
        "  ax.set_ylim(ymin, ymax)\n",
        "  if i % len(channels_to_try) == 0:\n",
        "    ax.set_ylabel('Amplitude (uV)')\n",
        "  ax.set_xlabel('Latency (ms)')\n",
        "  sns.lineplot(x=xticks, y=non_target_avg_potential[:, channel_idx], label='non-target', linestyle='--')\n",
        "  ax.legend(loc='upper right')\n",
        "plt.tight_layout()"
      ],
      "execution_count": null,
      "outputs": [
        {
          "output_type": "display_data",
          "data": {
            "image/png": "[encoded data removed]",
            "text/plain": [
              "<Figure size 1872x576 with 7 Axes>"
            ]
          },
          "metadata": {
            "needs_background": "light"
          }
        }
      ]
    },
    {
      "cell_type": "markdown",
      "metadata": {
        "id": "tqFph8wGImWy"
      },
      "source": [
        "## Modeling"
      ]
    },
    {
      "cell_type": "markdown",
      "metadata": {
        "id": "0XZF90lj7yIx"
      },
      "source": [
        "### Helper Functions"
      ]
    },
    {
      "cell_type": "code",
      "metadata": {
        "id": "VieyjPQl73MA"
      },
      "source": [
        "def getDynamicITROfPatients(d_stim_prob_all_patients, dynamic_acc_all_patients):\n",
        "  dynamic_itr_patients = np.empty([meta['subjects_num']])\n",
        "  for subject in tqdm(range(meta['subjects_num'])):\n",
        "    dynamic_probs = d_stim_prob_all_patients[subject]\n",
        "\n",
        "    cur_result = 0\n",
        "    avg_itr = 0\n",
        "    for run in range(meta['run_num']):\n",
        "      # Get the average  of the row, col stim we stopped at for this run\n",
        "      avg_row_stopped_stim = 0\n",
        "      avg_col_stopped_stim = 0\n",
        "      for trial in range(meta['trial_num']): \n",
        "        avg_row_stopped_stim += dynamic_probs[run][trial][4]\n",
        "        avg_col_stopped_stim += dynamic_probs[run][trial][5]\n",
        "      \n",
        "      avg_row_stopped_stim /= meta['trial_num']\n",
        "      avg_col_stopped_stim /= meta['trial_num']\n",
        "\n",
        "      # Calculate itr using average of the row, col stim\n",
        "      B, T, itr = calculateITR(dynamic_acc_all_patients[subject], soa, avg_row_stopped_stim, avg_col_stopped_stim, iti, meta['stimuli_num'])\n",
        "      avg_itr += itr\n",
        "\n",
        "    avg_itr /= meta['run_num']\n",
        "    dynamic_itr_patients[subject] = avg_itr\n",
        "\n",
        "  return dynamic_itr_patients"
      ],
      "execution_count": null,
      "outputs": []
    },
    {
      "cell_type": "code",
      "metadata": {
        "id": "4JlN4PgA8C8V"
      },
      "source": [
        "# Time to predict a character over all trials and runs\n",
        "def getDynamicTimeOfPatients(d_stim_prob_all_patients, dynamic_acc_all_patients):\n",
        "  dynamic_time_all_patients = np.zeros(meta['subjects_num'])\n",
        "  for subject in tqdm(range(meta['subjects_num'])):\n",
        "    for run in range(meta['run_num']):\n",
        "      avg_time_per_trial = 0\n",
        "      for trial in range(meta['trial_num']):\n",
        "        dynamic_row_stopped_stim = d_stim_prob_all_patients[subject][0][trial][4]\n",
        "        dynamic_col_stopped_stim = d_stim_prob_all_patients[subject][0][trial][5]\n",
        "        B, T, itr =  calculateITR(dynamic_acc_all_patients[subject], soa, dynamic_row_stopped_stim, dynamic_col_stopped_stim, iti, meta['stimuli_num'])\n",
        "        avg_time_per_trial += T\n",
        "\n",
        "      avg_time_per_trial /= meta['trial_num']\n",
        "\n",
        "      # Sum up average time per trial per run\n",
        "      dynamic_time_all_patients[subject] += avg_time_per_trial\n",
        "\n",
        "    # Get average (over trial and runs) time to predict a single character \n",
        "    dynamic_time_all_patients[subject] /= meta['run_num']\n",
        "\n",
        "  return dynamic_time_all_patients"
      ],
      "execution_count": null,
      "outputs": []
    },
    {
      "cell_type": "markdown",
      "metadata": {
        "id": "RNazs6AyiQTV"
      },
      "source": [
        "### EEGNet"
      ]
    },
    {
      "cell_type": "code",
      "metadata": {
        "id": "IUeC6tOUIkyh"
      },
      "source": [
        "def EEGNet(nb_classes, Chans = 64, Samples = 128, \n",
        "             dropoutRate = 0.5, kernLength = 64, F1 = 8, \n",
        "             D = 2, F2 = 16, norm_rate = 0.25, dropoutType = 'Dropout'):\n",
        "    \"\"\" Keras Implementation of EEGNet\n",
        "    http://iopscience.iop.org/article/10.1088/1741-2552/aace8c/meta\n",
        "        \n",
        "        1. Depthwise Convolutions to learn spatial filters within a \n",
        "        temporal convolution. The use of the depth_multiplier option maps \n",
        "        exactly to the number of spatial filters learned within a temporal\n",
        "        filter. This matches the setup of algorithms like FBCSP which learn \n",
        "        spatial filters within each filter in a filter-bank. This also limits \n",
        "        the number of free parameters to fit when compared to a fully-connected\n",
        "        convolution. \n",
        "        \n",
        "        2. Separable Convolutions to learn how to optimally combine spatial\n",
        "        filters across temporal bands. Separable Convolutions are Depthwise\n",
        "        Convolutions followed by (1x1) Pointwise Convolutions. \n",
        "        \n",
        "    Assumes the input signal is sampled at 128Hz. If you want to use this model\n",
        "    for any other sampling rate you will need to modify the lengths of temporal\n",
        "    kernels and average pooling size in blocks 1 and 2 as needed (double the \n",
        "    kernel lengths for double the sampling rate, etc). Note that we haven't \n",
        "    tested the model performance with this rule so this may not work well. \n",
        "\n",
        "    We set F2 = F1 * D (number of input filters = number of output filters) for\n",
        "    the SeparableConv2D layer. We haven't extensively tested other values of this\n",
        "    parameter (say, F2 < F1 * D for compressed learning, and F2 > F1 * D for\n",
        "    overcomplete). We believe the main parameters to focus on are F1 and D. \n",
        "    Inputs:\n",
        "        \n",
        "      nb_classes      : int, number of classes to classify\n",
        "      Chans, Samples  : number of channels and time points in the EEG data\n",
        "      dropoutRate     : dropout fraction\n",
        "      kernLength      : length of temporal convolution in first layer. We found\n",
        "                        that setting this to be half the sampling rate worked\n",
        "                        well in practice. For the SMR dataset in particular\n",
        "                        since the data was high-passed at 4Hz we used a kernel\n",
        "                        length of 32.     \n",
        "      F1, F2          : number of temporal filters (F1) and number of pointwise\n",
        "                        filters (F2) to learn. Default: F1 = 8, F2 = F1 * D. \n",
        "      D               : number of spatial filters to learn within each temporal\n",
        "                        convolution. Default: D = 2\n",
        "      dropoutType     : Either SpatialDropout2D or Dropout, passed as a string.\n",
        "    \"\"\"\n",
        "    \n",
        "    if dropoutType == 'SpatialDropout2D':\n",
        "        dropoutType = SpatialDropout2D\n",
        "    elif dropoutType == 'Dropout':\n",
        "        dropoutType = Dropout\n",
        "    else:\n",
        "        raise ValueError('dropoutType must be one of SpatialDropout2D '\n",
        "                         'or Dropout, passed as a string.')\n",
        "    \n",
        "    input1   = Input(shape = (Chans, Samples, 1))\n",
        "    ##################################################################\n",
        "    block1       = Conv2D(F1, (1, kernLength), padding = 'same',\n",
        "                                   input_shape = (Chans, Samples, 1),\n",
        "                                   use_bias = False)(input1)\n",
        "    block1       = BatchNormalization()(block1)\n",
        "    block1       = DepthwiseConv2D((Chans, 1), use_bias = False, \n",
        "                                   depth_multiplier = D,\n",
        "                                   depthwise_constraint = max_norm(1.))(block1)\n",
        "    block1       = BatchNormalization()(block1)\n",
        "    block1       = Activation('elu')(block1)\n",
        "    block1       = AveragePooling2D((1, 4))(block1)\n",
        "    block1       = dropoutType(dropoutRate)(block1)\n",
        "    \n",
        "    block2       = SeparableConv2D(F2, (1, 16),\n",
        "                                   use_bias = False, padding = 'same')(block1)\n",
        "    block2       = BatchNormalization()(block2)\n",
        "    block2       = Activation('elu')(block2)\n",
        "    block2       = AveragePooling2D((1, 8))(block2)\n",
        "    block2       = dropoutType(dropoutRate)(block2)\n",
        "        \n",
        "    flatten      = Flatten(name = 'flatten')(block2)\n",
        "    \n",
        "    dense        = Dense(nb_classes, name = 'dense', \n",
        "                         kernel_constraint = max_norm(norm_rate))(flatten)\n",
        "    softmax      = Activation('softmax', name = 'softmax')(dense)\n",
        "    \n",
        "    return Model(inputs=input1, outputs=softmax)"
      ],
      "execution_count": null,
      "outputs": []
    },
    {
      "cell_type": "markdown",
      "metadata": {
        "id": "3qa1WgQATbka"
      },
      "source": [
        "#### Preprocessing\n",
        "X has to be the shape (epochs, channels, timepoints, 1) <br>\n",
        "y has to be the shape (epochs, class_num)"
      ]
    },
    {
      "cell_type": "code",
      "metadata": {
        "id": "MmA7q0FiGqYJ"
      },
      "source": [
        "class EEGNetData():\n",
        "  def __init__(self, X, y):\n",
        "    '''\n",
        "    Args:\n",
        "      X: (run_num, trial_num, stimulation_num, (target_num + non_target_num), epoch_length_timepoint, channel_num)\n",
        "      y: (run_num, trial_num, stimulation_num, (target_num + non_target_num))\n",
        "    Return:\n",
        "      self.X: (run_num * trial_num * (target_num + non_target_num), channel_num, epoch_length_timepoint, 1)\n",
        "      self.y: (run_num * trial_num * (target_num + non_target_num), 2)\n",
        "    '''\n",
        "    # average the stimlulations \n",
        "    X = X.mean(axis=2)\n",
        "    # reshape to required dimension\n",
        "    X = X.reshape([-1, X.shape[-2], X.shape[-1]])\n",
        "    X = X.transpose([0, 2, 1])\n",
        "    X = X[:, :, :, None]\n",
        "    # since all y labels have been align stimulation-wise\n",
        "    y = y[:, :, 0, :] \n",
        "    y = y.reshape([-1])\n",
        "    # read just the labels of y to (0, 1, 0, 1, ... , num_classes), 0: non-target, 1: target (originally was 1: non-target and 2: target)\n",
        "    y = np.where(y == 1, 0, 1)\n",
        "    y = to_categorical(y, num_classes=2) # binary classification\n",
        "    self.X = X\n",
        "    self.y = y"
      ],
      "execution_count": null,
      "outputs": []
    },
    {
      "cell_type": "code",
      "metadata": {
        "id": "GPbE_W-ErejR"
      },
      "source": [
        "def get_eegnet_acc_static_stim(model, X_test_orig, y_test_orig, monte_carlo=None):\n",
        "    '''\n",
        "    Args:\n",
        "      model: EEGNet model\n",
        "      X_test_orig (array): (run_num, trial_num, stimulation_num, (target_num + non_target_num), epoch_length_timepoint, channel_num)\n",
        "      y_test_orig (array): (run_num, trial_num, stimulation_num, (target_num + non_target_num))\n",
        "\n",
        "    Return:\n",
        "      stim_accs (array): (stimulation_num)  \n",
        "    '''\n",
        "    stim_accs = np.empty([meta['stimulation_num']])\n",
        "    num_trials = meta['trial_num']\n",
        "    \n",
        "    # Square matrix\n",
        "    num_rows = int(meta['total_targets'] / 2)\n",
        "    num_cols = num_rows\n",
        "    num_total = num_rows + num_cols\n",
        "\n",
        "    for cur_stim in range(1, meta['stimulation_num'] + 1):\n",
        "      row_probs = np.zeros([num_rows, num_trials])\n",
        "      col_probs = np.zeros([num_cols, num_trials])\n",
        "\n",
        "      for cur_row in range(num_rows):\n",
        "        # First few rows represent the rows\n",
        "        cur_row_data = EEGNetData(X_test_orig[:, :, np.arange(0, cur_stim), cur_row:cur_row+1, :, :], y_test_orig)\n",
        "        predict_runs = 1\n",
        "        if monte_carlo is not None:\n",
        "          predict_runs = monte_carlo\n",
        "        for run in range(predict_runs):\n",
        "          row_probs[cur_row] += model.predict(cur_row_data.X)[:, 1]\n",
        "        row_probs[cur_row] /= predict_runs\n",
        "\n",
        "      for cur_col in range(num_cols):\n",
        "        # Last few rows represent the columns\n",
        "        col_idx = num_rows + cur_col\n",
        "        cur_col_data = EEGNetData(X_test_orig[:, :, np.arange(0, cur_stim), col_idx:col_idx+1, :, :], y_test_orig)\n",
        "        predict_runs = 1\n",
        "        if monte_carlo is not None:\n",
        "          predict_runs = monte_carlo\n",
        "        for run in range(predict_runs):\n",
        "          col_probs[cur_col] += model.predict(cur_col_data.X)[:, 1]\n",
        "        col_probs[cur_col] /= predict_runs\n",
        "\n",
        "      # Finding max index in each column \n",
        "      max_row_prob_trials = np.argmax(row_probs, axis = 0)\n",
        "      max_col_prob_trials = np.argmax(col_probs, axis = 0)\n",
        "      \n",
        "      correct_trials_acc = 0\n",
        "      for cur_trial in range(num_trials):\n",
        "        # Picking one of the stimulations -> labels are the same for every stim\n",
        "        row_label_idx = np.argmax(y_test_orig[0][cur_trial][0][0:num_rows])\n",
        "        col_label_idx = np.argmax(y_test_orig[0][cur_trial][0][num_rows:num_total])\n",
        "\n",
        "        if row_label_idx == max_row_prob_trials[cur_trial] and col_label_idx == max_col_prob_trials[cur_trial]:\n",
        "          correct_trials_acc += 1\n",
        "      \n",
        "      correct_trials_acc /= num_trials\n",
        "      stim_accs[cur_stim - 1] = correct_trials_acc\n",
        "\n",
        "    return stim_accs"
      ],
      "execution_count": null,
      "outputs": []
    },
    {
      "cell_type": "code",
      "metadata": {
        "id": "Z0UMWyMP66xm"
      },
      "source": [
        "def get_eegnet_prob_dynamic_stimulation(model, threshold, X_test_orig, y_test_orig, method, min_stim=3, monte_carlo=None):\n",
        "  '''\n",
        "  Args:\n",
        "    threshold: Confidence threshold value for the dynamic stimulation ranging from 0-1\n",
        "    X_test_orig (array): (run_num, trial_num, stimulation_num, (target_num + non_target_num), epoch_length_timepoint, channel_num)\n",
        "    y_test_orig (array): (run_num, trial_num, stimulation_num, (target_num + non_target_num))\n",
        "    method (int): 1 if taking the difference to compare with threshold, 0 if taking the argmax to compare with threshold\n",
        "\n",
        "  Return:\n",
        "    d_stim_prob (array): (trial_num, 6), 6 -> (row_num, col_num, row_prob, col_prob, row_stopped_stim, col_stopped_stim)\n",
        "    acc (int): Accuracy using dynamic stopping -> always x/num_trials\n",
        "  '''\n",
        "  \n",
        "  num_stimulations = meta['stimulation_num']\n",
        "  num_trials = meta['trial_num']\n",
        "\n",
        "  # Square matrix\n",
        "  num_rows = int(meta['total_targets'] / 2)\n",
        "  num_cols = num_rows\n",
        "  num_total = num_rows + num_cols\n",
        "\n",
        "  d_stim_prob = np.zeros([num_trials, 6])\n",
        "  correct_trial_acc = 0\n",
        "\n",
        "  for cur_trial in range(num_trials):\n",
        "    # Note col and row orders are randomized every trial -> numbers represent relative to the order in they were flashed\n",
        "    row_num_trial = -1\n",
        "    col_num_trial = -1\n",
        "    row_stopped_stim_trial = -1\n",
        "    row_prob_trial = -1\n",
        "    col_stopped_stim_trial = -1\n",
        "    col_prob_trial = -1\n",
        "\n",
        "    # Finding the min stimulation required to pass threshold confidence for the rows\n",
        "    for cur_stim in range(1, num_stimulations + 1):\n",
        "      # Probability of each row having P300 evoked for each trial and stimulation\n",
        "      row_probs_stim = np.zeros([num_rows])\n",
        "      # Checking prob of P300 evoked for each row (EEGNet is based on if P300 is evoked or not)\n",
        "      for cur_row in range(num_rows):\n",
        "        test_data_row = EEGNetData(X_test_orig[:, cur_trial:cur_trial+1, np.arange(0, cur_stim), cur_row:cur_row+1, :, :], y_test_orig)  \n",
        "        predict_runs = 1\n",
        "        if monte_carlo is not None:\n",
        "          predict_runs = monte_carlo\n",
        "        for run in range(predict_runs):\n",
        "          row_probs_stim[cur_row] += model.predict(test_data_row.X)[0][1]\n",
        "        row_probs_stim[cur_row] /= predict_runs\n",
        "\n",
        "      # Sort in descending order\n",
        "      sorted_idx = np.argsort(-1 * row_probs_stim)\n",
        "      most_prob_idx = sorted_idx[0]\n",
        "      most_prob_row = row_probs_stim[most_prob_idx]\n",
        "      # Use the difference of top 2 most probable rows\n",
        "      if method == 1:\n",
        "        second_prob_idx = sorted_idx[1]\n",
        "        second_most_prob_row = row_probs_stim[second_prob_idx]\n",
        "        if cur_stim >= min_stim and (abs(most_prob_row - second_most_prob_row) >= threshold or cur_stim == num_stimulations):\n",
        "          row_num_trial = most_prob_idx\n",
        "          row_stopped_stim_trial = cur_stim\n",
        "          row_prob_trial = most_prob_row\n",
        "          break\n",
        "      elif method == 2:\n",
        "        if cur_stim >= min_stim and (most_prob_row >= threshold or cur_stim == num_stimulations):\n",
        "          row_num_trial = most_prob_idx\n",
        "          row_stopped_stim_trial = cur_stim\n",
        "          row_prob_trial = most_prob_row\n",
        "          break\n",
        "\n",
        "    # Finding the min stimulation required to pass threshold confidence for the cols\n",
        "    for cur_stim in range(1, meta['stimulation_num'] + 1):\n",
        "      # Probability of each col having P300 evoked for each trial and stimulation\n",
        "      col_probs_stim = np.zeros([num_cols])\n",
        "      for cur_col in range(num_cols):\n",
        "        col_idx = num_rows + cur_col\n",
        "        test_data_col = EEGNetData(X_test_orig[:, cur_trial:cur_trial+1, np.arange(0, cur_stim), col_idx:col_idx+1, :, :], y_test_orig)\n",
        "        predict_runs = 1\n",
        "        if monte_carlo is not None:\n",
        "          predict_runs = monte_carlo\n",
        "        for run in range(predict_runs):\n",
        "          col_probs_stim[cur_col] += model.predict(test_data_col.X)[0][1]\n",
        "        col_probs_stim[cur_col] /= predict_runs\n",
        "\n",
        "      # Sort in descending order\n",
        "      sorted_idx = np.argsort(-1 * col_probs_stim)\n",
        "      most_prob_idx = sorted_idx[0]\n",
        "      most_prob_col = col_probs_stim[most_prob_idx]\n",
        "      if method == 1:\n",
        "        second_prob_idx = sorted_idx[1]\n",
        "        second_most_prob_col = col_probs_stim[second_prob_idx]\n",
        "        if cur_stim >= min_stim and (abs(most_prob_col - second_most_prob_col) >= threshold or cur_stim == num_stimulations):\n",
        "          col_num_trial = most_prob_idx\n",
        "          col_stopped_stim_trial = cur_stim\n",
        "          col_prob_trial = most_prob_col\n",
        "          break\n",
        "      elif method == 2:\n",
        "        if cur_stim >= min_stim and (most_prob_col >= threshold or cur_stim == num_stimulations):\n",
        "          col_num_trial = most_prob_idx\n",
        "          col_stopped_stim_trial = cur_stim\n",
        "          col_prob_trial = most_prob_col\n",
        "          break\n",
        "\n",
        "    # Once the stimulation stopping points have been found for both rows and cols\n",
        "    d_stim_prob[cur_trial] = np.array([row_num_trial, col_num_trial, row_prob_trial, col_prob_trial, row_stopped_stim_trial, col_stopped_stim_trial])\n",
        "\n",
        "    # Checking if correct col/row have been predicted\n",
        "    # Picking one of the stimulations -> labels are the same for every stim\n",
        "    row_label_idx = np.argmax(y_test_orig[0][cur_trial][0][0:num_rows])\n",
        "    col_label_idx = np.argmax(y_test_orig[0][cur_trial][0][num_rows:num_total])\n",
        "\n",
        "    if row_label_idx == row_num_trial and col_label_idx == col_num_trial:\n",
        "      correct_trial_acc += 1\n",
        "\n",
        "  correct_trial_acc /= num_trials\n",
        "  return d_stim_prob, correct_trial_acc"
      ],
      "execution_count": null,
      "outputs": []
    },
    {
      "cell_type": "code",
      "metadata": {
        "id": "GZSiGRbClXwf"
      },
      "source": [
        "# Return a dictionary\n",
        "def get_model_acc(epochs, subject, meta, threshold=None, method=1, bayes=0, monte_carlo=1, verbose=0):\n",
        "  '''\n",
        "  Args:\n",
        "    epochs (int): \n",
        "    subject (int): idx of the subject\n",
        "    threshold: Confidence threshold value for the dynamic stimulation ranging from 0-1 \n",
        "    method (int): Method to compute the dynamic threshold \n",
        "    bayes (int):  1 if using Bayesian, 0 otherwise\n",
        "    monte_carlo (int): monte carlo number for Bayesian model\n",
        "  Return:\n",
        "    test_acc (array): (run_num, epochs) trained with all stimulations\n",
        "    train_acc (array): (run_num, epochs) trained with all stimulations\n",
        "    stim_acc (array): (num_stim, run_num) obtained by doing cross validation\n",
        "    d_stim_prob (array): (num_run, trial_num, 6), 6 -> (row_num, col_num, row_prob, col_prob, row_stopped_stim, col_stopped_stim)\n",
        "    d_stim_acc (array): (num_run)\n",
        "  '''\n",
        "  train_acc = np.zeros([meta['run_num'], epochs])\n",
        "  test_acc = np.zeros([meta['run_num'], epochs])\n",
        "  stim_acc = np.zeros([meta['stimulation_num'], meta['run_num']])\n",
        "  d_stim_prob = np.zeros([meta['run_num'], meta['trial_num'], 6])\n",
        "  d_stim_acc = np.zeros([meta['run_num']])\n",
        "\n",
        "  kf = KFold(n_splits=meta['run_num'])\n",
        "  patient = get_dict_from_data(patient_data[subject])\n",
        "  # split data into train, test, and validation sets\n",
        "  X, y, epoched_label_stim = get_epoch_data(patient, meta)\n",
        "  # use one of the three runs as test set\n",
        "  for i, (train_index, test_index) in enumerate(kf.split(X)):\n",
        "    if verbose >= 1:\n",
        "      run_num = meta['run_num']\n",
        "      print(f'Fold {i + 1} / {run_num}')\n",
        "    X_train_orig, y_train_orig = X[train_index], y[train_index]\n",
        "    X_test_orig, y_test_orig = X[test_index], y[test_index]\n",
        "    \n",
        "    train_data = EEGNetData(X_train_orig, y_train_orig)\n",
        "    X_train, y_train = train_data.X, train_data.y\n",
        "    test_data = EEGNetData(X_test_orig, y_test_orig)\n",
        "    X_test, y_test = test_data.X, test_data.y\n",
        "\n",
        "    model = None\n",
        "    history = None\n",
        "\n",
        "    if bayes == 1:\n",
        "      # build the Bayesian model\n",
        "      model = BayesNet(nb_classes = 2, num_training = len(y_train), Chans = len(channels), \n",
        "                      Samples = meta['epoch_length_timepoint'], \n",
        "                      dropoutRate = 0.5)\n",
        "      model.compile(loss='categorical_crossentropy', optimizer='adam', \n",
        "                    metrics = ['acc'])\n",
        "      # train the model\n",
        "      class_weights = generate_class_weights(y_train.argmax(axis=1), 2)\n",
        "      history = model.fit(X_train, y_train, batch_size = 16, epochs = epochs, \n",
        "                            verbose = 0, validation_data=(X_test, y_test), \n",
        "                            class_weight = class_weights)\n",
        "    else:\n",
        "      # build the EEGNet model\n",
        "      model = EEGNet(nb_classes = 2, Chans = len(channels), \n",
        "                    Samples = meta['epoch_length_timepoint'], \n",
        "                    dropoutRate = 0.5)\n",
        "      model.compile(loss='categorical_crossentropy', optimizer='adam', \n",
        "                    metrics = ['acc'])\n",
        "      \n",
        "      # train the model\n",
        "      class_weights = generate_class_weights(y_train.argmax(axis=1), 2)\n",
        "      history = model.fit(X_train, y_train, batch_size = 16, epochs = epochs, \n",
        "                              verbose = 0, validation_data=(X_test, y_test), \n",
        "                              class_weight = class_weights)\n",
        "    \n",
        "    train_acc[i] = history.history['acc'] \n",
        "    test_acc[i] = history.history['val_acc']\n",
        "    \n",
        "    # Calculating dynamic stimulation accuracy\n",
        "    if threshold:\n",
        "      if bayes == 1:\n",
        "        d_stim_prob[test_index], d_stim_acc[test_index] = get_eegnet_prob_dynamic_stimulation(model, threshold, X_test_orig, y_test_orig, method, monte_carlo)\n",
        "      else:\n",
        "        d_stim_prob[test_index], d_stim_acc[test_index] = get_eegnet_prob_dynamic_stimulation(model, threshold, X_test_orig, y_test_orig, method)\n",
        "    \n",
        "    # Calculating static stimulation accuracy\n",
        "    if threshold is None:\n",
        "      if bayes == 1:\n",
        "        stim_acc[:, i] = get_eegnet_acc_static_stim(model, X_test_orig, y_test_orig, monte_carlo)\n",
        "      else:\n",
        "        stim_acc[:, i] = get_eegnet_acc_static_stim(model, X_test_orig, y_test_orig)\n",
        "\n",
        "  res = dict() \n",
        "  res[\"train_acc\"]   = train_acc\n",
        "  res[\"test_acc\"]    = test_acc\n",
        "  res[\"stim_acc\"]    = stim_acc\n",
        "  res[\"d_stim_prob\"] = d_stim_prob\n",
        "  res[\"d_stim_acc\"]  = d_stim_acc\n",
        "  return res"
      ],
      "execution_count": null,
      "outputs": []
    },
    {
      "cell_type": "markdown",
      "metadata": {
        "id": "_6FTq9TfJorq"
      },
      "source": [
        "#### Dynamic Stopping | Threshold vs Mean Accuracy of Patients"
      ]
    },
    {
      "cell_type": "code",
      "metadata": {
        "id": "z7GkUl-GJusM"
      },
      "source": [
        "def get_stim_threshold_graph_accs(method, thresholds, epochs, monte_carlo=None):\n",
        "  stim_threshold_graph_accs = np.zeros([len(thresholds)])\n",
        "  # Sum the mean patient accuracy at each threshold\n",
        "  for idx, threshold in tqdm(enumerate(thresholds)):\n",
        "    for subject in range(meta['subjects_num']): \n",
        "      res = None\n",
        "      if monte_carlo:\n",
        "        # Running Bayesian model\n",
        "        res = get_model_acc(epochs, subject, meta, threshold, method, 1, monte_carlo)\n",
        "      else:\n",
        "        # Running EEGNet model\n",
        "        res = get_model_acc(epochs, subject, meta, threshold, method)\n",
        "\n",
        "      # d_stim_acc.shape  (array): (num_run)\n",
        "      stim_threshold_graph_accs[idx] += mean(res['d_stim_acc']) \n",
        "\n",
        "  # Get average accuracy for all patients at each threshold\n",
        "  for idx in range(len(stim_threshold_graph_accs)): \n",
        "    stim_threshold_graph_accs[idx] /= meta['subjects_num']\n",
        "  \n",
        "  return  stim_threshold_graph_accs"
      ],
      "execution_count": null,
      "outputs": []
    },
    {
      "cell_type": "code",
      "metadata": {
        "id": "63CmGNVO9tAr",
        "colab": {
          "base_uri": "https://localhost:8080/",
          "height": 312
        },
        "outputId": "3146f33c-cbe6-480f-9d33-97331a2e59be"
      },
      "source": [
        "plt.xlabel(\"Threshold\")\n",
        "plt.ylabel(\"Accuracy\")\n",
        "plt.title(\"Dynamic Stopping Threshold Accuracies with Method 2\")\n",
        "xticks = thresholds_method_2\n",
        "plt.plot(xticks, eegnet_thresholds_method_2_accs, marker = '.')\n",
        "plt.plot(xticks, bayes_thresholds_method_2_accs, marker = '.')\n",
        "plt.legend(['EEGNet', 'Bayesian'])"
      ],
      "execution_count": null,
      "outputs": [
        {
          "output_type": "execute_result",
          "data": {
            "text/plain": [
              "<matplotlib.legend.Legend at 0x7fbf5b427f90>"
            ]
          },
          "metadata": {},
          "execution_count": 35
        },
        {
          "output_type": "display_data",
          "data": {
            "image/png": "[encoded data removed]",
            "text/plain": [
              "<Figure size 432x288 with 1 Axes>"
            ]
          },
          "metadata": {
            "needs_background": "light"
          }
        }
      ]
    },
    {
      "cell_type": "markdown",
      "metadata": {
        "id": "o5qtGXPppdi6"
      },
      "source": [
        "#### Accuracy based on sorted SSC patients (trained at each stimulation)"
      ]
    },
    {
      "cell_type": "code",
      "metadata": {
        "colab": {
          "base_uri": "https://localhost:8080/"
        },
        "id": "OuBU2o2Wpknt",
        "outputId": "8123d245-db12-4513-fcd8-d94289bdd098"
      },
      "source": [
        "epochs = 40\n",
        "threshold = 0.9\n",
        "static_stim_num = 4\n",
        "dynamic_method = 2\n",
        "\n",
        "static_acc_all_patients = np.empty(meta['subjects_num'])\n",
        "dynamic_acc_all_patients = np.empty(meta['subjects_num'])\n",
        "d_stim_prob_all_patients = []\n",
        "\n",
        "# Collecting data for each patient (used in future calculations with ITR and Time)\n",
        "for i in range(meta['subjects_num']):\n",
        "  print('Patient:', i)\n",
        "  # Get the static stim accuracy at static_stim_num\n",
        "  static_res = get_model_acc(epochs, i, meta)\n",
        "  dynamic_res = get_model_acc(epochs, i, meta, threshold, dynamic_method)\n",
        "  static_acc_all_patients[i] = mean(static_res['stim_acc'][static_stim_num - 1])\n",
        "  dynamic_acc_all_patients[i] = mean(dynamic_res['d_stim_acc'])\n",
        "  d_stim_prob_all_patients.append(dynamic_res['d_stim_prob'])\n",
        "\n",
        "sorted_static_acc_all_patients_idxs = np.argsort(static_acc_all_patients)\n",
        "sorted_static_acc_all_patients = np.array(static_acc_all_patients)[sorted_static_acc_all_patients_idxs]\n",
        "sorted_dynamic_acc_all_patients = np.array(dynamic_acc_all_patients)[sorted_static_acc_all_patients_idxs]"
      ],
      "execution_count": null,
      "outputs": [
        {
          "output_type": "stream",
          "name": "stdout",
          "text": [
            "Patient: 0\n",
            "Patient: 1\n",
            "Patient: 2\n",
            "Patient: 3\n",
            "Patient: 4\n",
            "Patient: 5\n",
            "Patient: 6\n",
            "Patient: 7\n",
            "Patient: 8\n",
            "Patient: 9\n"
          ]
        }
      ]
    },
    {
      "cell_type": "code",
      "metadata": {
        "colab": {
          "base_uri": "https://localhost:8080/",
          "height": 312
        },
        "id": "PvQm2EXepnpL",
        "outputId": "775f06f5-52ab-487e-a9aa-4049c64e7fee"
      },
      "source": [
        "xticks = np.arange(1, meta['subjects_num'] + 1)\n",
        "plt.plot(xticks, sorted_dynamic_acc_all_patients, marker = '.')\n",
        "plt.plot(xticks, sorted_static_acc_all_patients, marker = '.')\n",
        "\n",
        "plt.title('Participants Accuracies (Threshold: ' + str(threshold) + ')')\n",
        "plt.xlabel('Participants (Sorted by SSC Accuracy)')\n",
        "plt.ylabel('Mean Accuracy');\n",
        "plt.legend(['DSC Method ' + str(dynamic_method), 'SSC'])"
      ],
      "execution_count": null,
      "outputs": [
        {
          "output_type": "execute_result",
          "data": {
            "text/plain": [
              "<matplotlib.legend.Legend at 0x7fbfe6076690>"
            ]
          },
          "metadata": {},
          "execution_count": 37
        },
        {
          "output_type": "display_data",
          "data": {
            "image/png": "[encoded data removed]",
            "text/plain": [
              "<Figure size 432x288 with 1 Axes>"
            ]
          },
          "metadata": {
            "needs_background": "light"
          }
        }
      ]
    },
    {
      "cell_type": "markdown",
      "metadata": {
        "id": "1ZB6yNwup5Sz"
      },
      "source": [
        "#### ITR based on sorted patients (trained at each stimulation)\n",
        "static:  patient vs. itr for those stimulations we used\n",
        "dynamic: patient vs. average itr across runs using average of the row and col stim we stopped at in each run"
      ]
    },
    {
      "cell_type": "code",
      "metadata": {
        "colab": {
          "base_uri": "https://localhost:8080/"
        },
        "id": "jCOFNENSp8HE",
        "outputId": "f4faa17b-18ec-44fa-8faf-2716490ab344"
      },
      "source": [
        "static_itr_patients = np.empty([meta['subjects_num']])\n",
        "\n",
        "# Dynamic ITR\n",
        "dynamic_itr_patients = getDynamicITROfPatients(d_stim_prob_all_patients, dynamic_acc_all_patients)\n",
        "\n",
        "# Static ITR\n",
        "for i in range(meta['subjects_num']):\n",
        "  B, T, itr = calculateITR(static_acc_all_patients[i], soa, static_stim_num, static_stim_num, iti, meta['stimuli_num'])\n",
        "  static_itr_patients[i] = itr \n",
        "\n",
        "sorted_static_itr_patients_idxs = np.argsort(static_itr_patients)\n",
        "sorted_static_itr_patients = np.array(static_itr_patients)[sorted_static_itr_patients_idxs]\n",
        "sorted_dynamic_itr_patients = np.array(dynamic_itr_patients)[sorted_static_itr_patients_idxs]"
      ],
      "execution_count": null,
      "outputs": [
        {
          "output_type": "stream",
          "name": "stderr",
          "text": [
            "100%|██████████| 10/10 [00:00<00:00, 12622.04it/s]\n"
          ]
        }
      ]
    },
    {
      "cell_type": "code",
      "metadata": {
        "colab": {
          "base_uri": "https://localhost:8080/",
          "height": 312
        },
        "id": "wKvpnFz-FmYl",
        "outputId": "2e693b6e-a1c8-4890-873f-71edec07e2d6"
      },
      "source": [
        "#Plotting graph\n",
        "xticks = np.arange(1, meta['subjects_num'] + 1)\n",
        "plt.plot(xticks, sorted_dynamic_itr_patients, marker='.')\n",
        "plt.plot(xticks, sorted_static_itr_patients, marker='.')\n",
        "plt.title('Participants ITR (Threshold: ' + str(threshold) + ')')\n",
        "plt.xlabel('Participants (Sorted by SSC Accuracy)')\n",
        "plt.ylabel('ITR');\n",
        "plt.legend(['DSC Method ' + str(dynamic_method), 'SSC'])"
      ],
      "execution_count": null,
      "outputs": [
        {
          "output_type": "execute_result",
          "data": {
            "text/plain": [
              "<matplotlib.legend.Legend at 0x7fbfe647ff50>"
            ]
          },
          "metadata": {},
          "execution_count": 42
        },
        {
          "output_type": "display_data",
          "data": {
            "image/png": "[encoded data removed]",
            "text/plain": [
              "<Figure size 432x288 with 1 Axes>"
            ]
          },
          "metadata": {
            "needs_background": "light"
          }
        }
      ]
    },
    {
      "cell_type": "markdown",
      "metadata": {
        "id": "tfbWVw5h7LTg"
      },
      "source": [
        "#### Time to predict character based on sorted patients (trained at each stimulation)"
      ]
    },
    {
      "cell_type": "code",
      "metadata": {
        "colab": {
          "base_uri": "https://localhost:8080/"
        },
        "id": "-3dUOQLP7Plh",
        "outputId": "6974cb1f-e750-400d-840d-8f2334ab9c64"
      },
      "source": [
        "ssc_stim = 5\n",
        "\n",
        "static_time_all_patients = np.empty(meta['subjects_num'])\n",
        "dynamic_time_all_patients = np.empty(meta['subjects_num'])\n",
        "\n",
        "for subject in range(meta['subjects_num']):\n",
        "  B, T, itr = calculateITR(static_acc_all_patients[i], soa, ssc_stim, ssc_stim, iti, meta['stimuli_num'])\n",
        "  static_time_all_patients[subject] = T\n",
        "\n",
        "dynamic_time_all_patients = getDynamicTimeOfPatients(d_stim_prob_all_patients, dynamic_acc_all_patients)\n",
        "\n",
        "sorted_static_time_all_patients_idxs = np.argsort(static_time_all_patients)\n",
        "sorted_static_time_all_patients = np.array(static_time_all_patients)[sorted_static_time_all_patients_idxs]\n",
        "sorted_dynamic_time_all_patients = np.array(dynamic_time_all_patients)[sorted_static_time_all_patients_idxs]"
      ],
      "execution_count": null,
      "outputs": [
        {
          "output_type": "stream",
          "name": "stderr",
          "text": [
            "100%|██████████| 10/10 [00:00<00:00, 5967.14it/s]\n"
          ]
        }
      ]
    },
    {
      "cell_type": "code",
      "metadata": {
        "colab": {
          "base_uri": "https://localhost:8080/",
          "height": 312
        },
        "id": "c80q7RDqcGpi",
        "outputId": "0a0b9699-06a3-40ac-fd40-25cd83a0b8e9"
      },
      "source": [
        "#Plotting\n",
        "xticks = np.arange(1, meta['subjects_num'] + 1)\n",
        "plt.plot(xticks, sorted_dynamic_time_all_patients, marker='.')\n",
        "plt.plot(xticks, sorted_static_time_all_patients, marker='.')\n",
        "plt.title('Participants Time (Threshold: ' + str(threshold) + ')')\n",
        "plt.xlabel('Participants (Sorted by SSC Accuracy)')\n",
        "plt.ylabel('Time');\n",
        "plt.legend(['DSC Method ' + str(dynamic_method), 'SSC'])"
      ],
      "execution_count": null,
      "outputs": [
        {
          "output_type": "execute_result",
          "data": {
            "text/plain": [
              "<matplotlib.legend.Legend at 0x7fbfe0deac90>"
            ]
          },
          "metadata": {},
          "execution_count": 44
        },
        {
          "output_type": "display_data",
          "data": {
            "image/png": "[encoded data removed]",
            "text/plain": [
              "<Figure size 432x288 with 1 Axes>"
            ]
          },
          "metadata": {
            "needs_background": "light"
          }
        }
      ]
    },
    {
      "cell_type": "markdown",
      "metadata": {
        "id": "os_iZy4t918m"
      },
      "source": [
        "### BayesNet"
      ]
    },
    {
      "cell_type": "code",
      "metadata": {
        "id": "18Gi0LD494J7"
      },
      "source": [
        "class BayesNet(tf.keras.Model):\n",
        "    \"\"\" Keras Implementation of EEGNet\n",
        "    http://iopscience.iop.org/article/10.1088/1741-2552/aace8c/meta\n",
        "        \n",
        "        1. Depthwise Convolutions to learn spatial filters within a \n",
        "        temporal convolution. The use of the depth_multiplier option maps \n",
        "        exactly to the number of spatial filters learned within a temporal\n",
        "        filter. This matches the setup of algorithms like FBCSP which learn \n",
        "        spatial filters within each filter in a filter-bank. This also limits \n",
        "        the number of free parameters to fit when compared to a fully-connected\n",
        "        convolution. \n",
        "        \n",
        "        2. Separable Convolutions to learn how to optimally combine spatial\n",
        "        filters across temporal bands. Separable Convolutions are Depthwise\n",
        "        Convolutions followed by (1x1) Pointwise Convolutions. \n",
        "        \n",
        "    Assumes the input signal is sampled at 128Hz. If you want to use this model\n",
        "    for any other sampling rate you will need to modify the lengths of temporal\n",
        "    kernels and average pooling size in blocks 1 and 2 as needed (double the \n",
        "    kernel lengths for double the sampling rate, etc). Note that we haven't \n",
        "    tested the model performance with this rule so this may not work well. \n",
        "\n",
        "    We set F2 = F1 * D (number of input filters = number of output filters) for\n",
        "    the SeparableConv2D layer. We haven't extensively tested other values of this\n",
        "    parameter (say, F2 < F1 * D for compressed learning, and F2 > F1 * D for\n",
        "    overcomplete). We believe the main parameters to focus on are F1 and D. \n",
        "    Inputs:\n",
        "        \n",
        "      nb_classes      : int, number of classes to classify\n",
        "      Chans, Samples  : number of channels and time points in the EEG data\n",
        "      dropoutRate     : dropout fraction\n",
        "      kernLength      : length of temporal convolution in first layer. We found\n",
        "                        that setting this to be half the sampling rate worked\n",
        "                        well in practice. For the SMR dataset in particular\n",
        "                        since the data was high-passed at 4Hz we used a kernel\n",
        "                        length of 32.     \n",
        "      F1, F2          : number of temporal filters (F1) and number of pointwise\n",
        "                        filters (F2) to learn. Default: F1 = 8, F2 = F1 * D. \n",
        "      D               : number of spatial filters to learn within each temporal\n",
        "                        convolution. Default: D = 2\n",
        "      dropoutType     : Either SpatialDropout2D or Dropout, passed as a string.\n",
        "    \"\"\"\n",
        "    def __init__(self, nb_classes, num_training, Chans = 64, Samples = 128, \n",
        "             dropoutRate = 0.5, kernLength = 64, F1 = 8, \n",
        "             D = 2, F2 = 16, norm_rate = 0.25, dropoutType = 'Dropout'):\n",
        "      super(BayesNet, self).__init__()\n",
        "      self.kl_divergence_function = lambda q, p, _: dist.kl_divergence(q, p) / tf.cast(num_training, dtype=tf.float32)\n",
        "      self.nb_classes = nb_classes\n",
        "      self.num_training = num_training\n",
        "      self.Chans = Chans\n",
        "      self.Samples = Samples\n",
        "      self.dropoutRate = dropoutRate\n",
        "      self.kernLength = kernLength\n",
        "      self.F1 = F1\n",
        "      self.D = D\n",
        "      self.F2 = F2\n",
        "      self.norm_rate = norm_rate\n",
        "      # whether to return the normalized logits\n",
        "      self.softmax_on = True\n",
        "      # layers\n",
        "      if dropoutType == 'SpatialDropout2D':\n",
        "          self.dropoutType = SpatialDropout2D\n",
        "      elif dropoutType == 'Dropout':\n",
        "          self.dropoutType = Dropout\n",
        "      else:\n",
        "          raise ValueError('dropoutType must be one of SpatialDropout2D '\n",
        "                          'or Dropout, passed as a string.')\n",
        "      self.conv1 = Conv2D(self.F1, (1, self.kernLength), padding = 'same',\n",
        "                                    input_shape = (self.Chans, self.Samples, 1),\n",
        "                                    use_bias = False)\n",
        "      self.b1A = BatchNormalization()\n",
        "      self.dconv1 = DepthwiseConv2D((self.Chans, 1), use_bias = False, \n",
        "                                    depth_multiplier = self.D,\n",
        "                                    depthwise_constraint = max_norm(1.))\n",
        "      self.b1B = BatchNormalization()\n",
        "      self.a1 = Activation('elu')\n",
        "      self.avg1 = AveragePooling2D((1, 4))\n",
        "      self.d1 = self.dropoutType(self.dropoutRate)\n",
        "\n",
        "      self.sconv2 = SeparableConv2D(self.F2, (1, 16),\n",
        "                                    use_bias = False, padding = 'same')\n",
        "      self.b2 = BatchNormalization()\n",
        "      self.a2 = Activation('elu')\n",
        "      self.avg2 = AveragePooling2D((1, 8))\n",
        "      self.d2 = self.dropoutType(self.dropoutRate)\n",
        "\n",
        "      self.f = Flatten(name = 'flatten')\n",
        "      self.classifier = tfp.layers.DenseFlipout(self.nb_classes, name = 'dense', kernel_divergence_fn=self.kl_divergence_function)\n",
        "      self.a3 = Activation('softmax', name = 'softmax')\n",
        "    def call(self, inputs):\n",
        "      assert inputs.shape[1:] == (self.Chans, self.Samples, 1)\n",
        "      ##################################################################\n",
        "      block1       = self.conv1(inputs)\n",
        "      block1       = self.b1A(block1)\n",
        "      block1       = self.dconv1(block1)\n",
        "      block1       = self.b1B(block1)\n",
        "      block1       = self.a1(block1)\n",
        "      block1       = self.avg1(block1)\n",
        "      block1       = self.d1(block1)\n",
        "      \n",
        "      block2       = self.sconv2(block1)\n",
        "      block2       = self.b2(block2)\n",
        "      block2       = self.a2(block2)\n",
        "      block2       = self.avg2(block2)\n",
        "      block2       = self.d2(block2)\n",
        "          \n",
        "      flatten      = self.f(block2)\n",
        "      dense        = self.classifier(flatten)\n",
        "      softmax      = self.a3(dense)\n",
        "      return softmax"
      ],
      "execution_count": null,
      "outputs": []
    },
    {
      "cell_type": "markdown",
      "metadata": {
        "id": "oeSkDOjjC9vY"
      },
      "source": [
        "#### Getting Data For Graphing"
      ]
    },
    {
      "cell_type": "code",
      "metadata": {
        "id": "rUGNe8BYDAzZ"
      },
      "source": [
        "def getDynamicDataForGraphing(epochs, threshold, method, monte_carlo=None):\n",
        "  dynamic_acc_all_patients = np.empty(meta['subjects_num'])\n",
        "  d_stim_probs_all_patients = []\n",
        "\n",
        "  # Getting data for static and dynamic (to be used in later code blocks)\n",
        "  for subject in range(meta['subjects_num']):\n",
        "    print(\"Subject :\", subject)\n",
        "\n",
        "    res = None\n",
        "    if monte_carlo:\n",
        "      res = get_model_acc(epochs, subject, meta, threshold, method, 1, monte_carlo)\n",
        "    else:\n",
        "      res = get_model_acc(epochs, subject, meta, threshold, method)\n",
        "      \n",
        "    dynamic_acc_all_patients[subject] = mean(res['d_stim_acc'])\n",
        "    d_stim_probs_all_patients.append(res['d_stim_prob'])\n",
        "\n",
        "  \n",
        "  return dynamic_acc_all_patients, d_stim_probs_all_patients"
      ],
      "execution_count": null,
      "outputs": []
    },
    {
      "cell_type": "markdown",
      "metadata": {
        "id": "Gz0kIXr5y29v"
      },
      "source": [
        "#### Accuracy vs stimulation num for static EEGNet and Bayesian models\n",
        "\n",
        "Static method is used "
      ]
    },
    {
      "cell_type": "code",
      "metadata": {
        "colab": {
          "base_uri": "https://localhost:8080/"
        },
        "id": "_mnvclxlzcOJ",
        "outputId": "ebf12f85-347f-4141-8c77-09832c5b6ee1"
      },
      "source": [
        "epochs = 40\n",
        "monte_carlo = 5\n",
        "static_threshold = None\n",
        "dynamic_threshold_one = 0.9\n",
        "dynamic_threshold_two = 0.9\n",
        "methodOne = 1\n",
        "methodTwo = 2\n",
        "\n",
        "# Static \n",
        "static_eegnet_res = []\n",
        "static_bayes_res = []\n",
        "\n",
        "# Getting data for static\n",
        "for subject in tqdm(range(meta['subjects_num'])):\n",
        "  #static_eegnet_res.append(get_model_acc(epochs, subject, meta))\n",
        "  static_bayes_res.append(get_model_acc(epochs, subject, meta, static_threshold, methodOne, 1, monte_carlo))"
      ],
      "execution_count": null,
      "outputs": [
        {
          "output_type": "stream",
          "name": "stderr",
          "text": [
            "\r  0%|          | 0/10 [00:00<?, ?it/s]/usr/local/lib/python3.7/dist-packages/keras/engine/base_layer.py:2223: UserWarning: `layer.add_variable` is deprecated and will be removed in a future version. Please use `layer.add_weight` method instead.\n",
            "  warnings.warn('`layer.add_variable` is deprecated and '\n",
            "100%|██████████| 10/10 [09:49<00:00, 58.92s/it]\n"
          ]
        }
      ]
    },
    {
      "cell_type": "code",
      "metadata": {
        "colab": {
          "base_uri": "https://localhost:8080/",
          "height": 312
        },
        "id": "os2gFqOkI_O3",
        "outputId": "9b0f84c7-9ff4-4a65-d999-d9d078593f43"
      },
      "source": [
        "# Getting averages across stimulations\n",
        "eegnet_avg_stim_acc_all_patients = np.zeros([meta['stimulation_num']])\n",
        "bayes_avg_stim_acc_all_patients = np.zeros([meta['stimulation_num']])\n",
        "\n",
        "# Static Bayesian across stimulations\n",
        "for subject in range(meta['subjects_num']):\n",
        "  eegnet_accs = static_eegnet_res[subject]['stim_acc']\n",
        "  bayes_accs = static_bayes_res[subject]['stim_acc']\n",
        "\n",
        "  for run in range(meta['run_num']):\n",
        "    for stim in range(meta['stimulation_num']):\n",
        "      eegnet_avg_stim_acc_all_patients[stim] += eegnet_accs[stim][run]\n",
        "      bayes_avg_stim_acc_all_patients[stim] += bayes_accs[stim][run]\n",
        "\n",
        "for stim in range(meta['stimulation_num']):\n",
        "  eegnet_avg_stim_acc_all_patients[stim] /= meta['run_num'] * meta['subjects_num']\n",
        "  bayes_avg_stim_acc_all_patients[stim] /= meta['run_num'] * meta['subjects_num']\n",
        "\n",
        "# Plotting\n",
        "xticks = np.arange(1, meta['stimulation_num'] + 1)\n",
        "line1 = plt.plot(xticks, eegnet_avg_stim_acc_all_patients, marker = '.')\n",
        "line2 = plt.plot(xticks, bayes_avg_stim_acc_all_patients, marker = '.')\n",
        "\n",
        "plt.title('Mean Accuracies By Stimulation')\n",
        "plt.xlabel('Stimulation')\n",
        "plt.ylabel('Mean Accuracy');\n",
        "plt.legend(['Static EEGNet', 'Static Bayesian'])"
      ],
      "execution_count": null,
      "outputs": [
        {
          "output_type": "execute_result",
          "data": {
            "text/plain": [
              "<matplotlib.legend.Legend at 0x7f45d4270a50>"
            ]
          },
          "metadata": {},
          "execution_count": 25
        },
        {
          "output_type": "display_data",
          "data": {
            "image/png": "[encoded data removed]",
            "text/plain": [
              "<Figure size 432x288 with 1 Axes>"
            ]
          },
          "metadata": {
            "needs_background": "light"
          }
        }
      ]
    },
    {
      "cell_type": "code",
      "metadata": {
        "id": "ZGhdodw8NbVb"
      },
      "source": [
        "# Getting averages across patients for one stimulation (static)\n",
        "bayes_static_mean = np.empty([meta['subjects_num']])\n",
        "bayes_ssc_stim = 6\n",
        "\n",
        "for subject in range(meta['subjects_num']):\n",
        "  bayes_static_mean[subject] = mean(static_bayes_res[subject]['stim_acc'][bayes_ssc_stim - 1])"
      ],
      "execution_count": null,
      "outputs": []
    },
    {
      "cell_type": "markdown",
      "metadata": {
        "id": "VDEcSu6rqoyc"
      },
      "source": [
        "#### Accuracy comparing Dynamic EEGNet and Bayesian on all patients "
      ]
    },
    {
      "cell_type": "code",
      "metadata": {
        "id": "gsAeu_IEE9sn",
        "colab": {
          "base_uri": "https://localhost:8080/"
        },
        "outputId": "d8cc3916-cb8e-4cff-e084-96c0a37727ce"
      },
      "source": [
        "# Getting data for each dynamic method type \n",
        "epochs = 40\n",
        "monte_carlo = 5\n",
        "dynamic_threshold_one = 0.9\n",
        "dynamic_threshold_two = 0.9\n",
        "\n",
        "# Method two\n",
        "eegnet_dynamic_acc_all_patients_method_two, eegnet_d_stim_probs_all_patients_method_two = getDynamicDataForGraphing(epochs, dynamic_threshold_two, 2, monte_carlo=None)\n",
        "bayes_dynamic_acc_all_patients_method_two, bayes_d_stim_probs_all_patients_method_two = getDynamicDataForGraphing(epochs, dynamic_threshold_two, 2, monte_carlo)"
      ],
      "execution_count": null,
      "outputs": [
        {
          "output_type": "stream",
          "name": "stdout",
          "text": [
            "Subject : 0\n",
            "Subject : 1\n",
            "Subject : 2\n",
            "Subject : 3\n",
            "Subject : 4\n",
            "Subject : 5\n",
            "Subject : 6\n",
            "Subject : 7\n",
            "Subject : 8\n",
            "Subject : 9\n",
            "Subject : 0\n"
          ]
        },
        {
          "output_type": "stream",
          "name": "stderr",
          "text": [
            "/usr/local/lib/python3.7/dist-packages/keras/engine/base_layer.py:2223: UserWarning: `layer.add_variable` is deprecated and will be removed in a future version. Please use `layer.add_weight` method instead.\n",
            "  warnings.warn('`layer.add_variable` is deprecated and '\n"
          ]
        },
        {
          "output_type": "stream",
          "name": "stdout",
          "text": [
            "Subject : 1\n",
            "Subject : 2\n",
            "Subject : 3\n",
            "Subject : 4\n",
            "Subject : 5\n",
            "Subject : 6\n",
            "Subject : 7\n",
            "Subject : 8\n",
            "Subject : 9\n"
          ]
        }
      ]
    },
    {
      "cell_type": "code",
      "metadata": {
        "colab": {
          "base_uri": "https://localhost:8080/",
          "height": 312
        },
        "id": "Z9DfDwZzqzxl",
        "outputId": "d40907e2-0c22-426c-89f9-00d9280f6224"
      },
      "source": [
        "xticks = np.arange(1, meta['subjects_num'] + 1)\n",
        "eegnet_dynamic_mean_method_two = round(mean(eegnet_dynamic_acc_all_patients_method_two), 2)\n",
        "bayes_dynamic_mean_method_two = round(mean(bayes_dynamic_acc_all_patients_method_two), 2)\n",
        "static_mean = round(mean(bayes_static_mean), 2)\n",
        "\n",
        "plt.plot(xticks, bayes_dynamic_acc_all_patients_method_two, marker = '.')\n",
        "plt.plot(xticks, bayes_static_mean, marker = '.')\n",
        "plt.title('Participant Accuracies using BNN (Threshold = 0.9)')\n",
        "plt.xlabel('Participants')\n",
        "plt.ylabel('Accuracy');\n",
        "plt.legend(['Dynamic', 'Static'])"
      ],
      "execution_count": null,
      "outputs": [
        {
          "output_type": "execute_result",
          "data": {
            "text/plain": [
              "<matplotlib.legend.Legend at 0x7f45d443eb10>"
            ]
          },
          "metadata": {},
          "execution_count": 66
        },
        {
          "output_type": "display_data",
          "data": {
            "image/png": "[encoded data removed]",
            "text/plain": [
              "<Figure size 432x288 with 1 Axes>"
            ]
          },
          "metadata": {
            "needs_background": "light"
          }
        }
      ]
    },
    {
      "cell_type": "markdown",
      "metadata": {
        "id": "jMaX--L1r9yp"
      },
      "source": [
        "#### ITR comparing Dynamic EEGNet and Bayesian on all patients"
      ]
    },
    {
      "cell_type": "code",
      "metadata": {
        "colab": {
          "base_uri": "https://localhost:8080/"
        },
        "id": "EsXSj7OksVHT",
        "outputId": "e6f4f764-b3ef-4133-e9ad-5e4d52d8c9a7"
      },
      "source": [
        "static_bayes_itr_patients = np.empty([meta['subjects_num']])\n",
        "\n",
        "# Method two\n",
        "dynamic_eegnet_itr_patients_method_two = getDynamicITROfPatients(eegnet_d_stim_probs_all_patients_method_two, eegnet_dynamic_acc_all_patients_method_two)\n",
        "dynamic_bayes_itr_patients_method_two = getDynamicITROfPatients(bayes_d_stim_probs_all_patients_method_two, bayes_dynamic_acc_all_patients_method_two)\n",
        "\n",
        "# Static Bayesian \n",
        "for subject in range(meta['subjects_num']):\n",
        "  static_mean_acc = mean(static_bayes_res[subject]['stim_acc'][bayes_ssc_stim - 1])\n",
        "  B, T, itr = calculateITR(static_mean_acc, soa, bayes_ssc_stim, bayes_ssc_stim, iti, meta['stimuli_num'])\n",
        "  static_bayes_itr_patients[subject] = itr"
      ],
      "execution_count": null,
      "outputs": [
        {
          "output_type": "stream",
          "name": "stderr",
          "text": [
            "100%|██████████| 10/10 [00:00<00:00, 13264.72it/s]\n",
            "100%|██████████| 10/10 [00:00<00:00, 14889.26it/s]\n"
          ]
        }
      ]
    },
    {
      "cell_type": "code",
      "metadata": {
        "colab": {
          "base_uri": "https://localhost:8080/",
          "height": 312
        },
        "id": "aU6Y4BpJsX2u",
        "outputId": "c5d365d7-1e86-4ea8-e1d0-7271eacf9b9f"
      },
      "source": [
        "static_mean_itr = round(mean(static_bayes_itr_patients), 2)\n",
        "dynamic_mean_itr = round(mean(dynamic_bayes_itr_patients_method_two), 2)\n",
        "\n",
        "#Plotting graph \n",
        "xticks = np.arange(1, meta['subjects_num'] + 1)\n",
        "plt.plot(xticks, dynamic_bayes_itr_patients_method_two, marker='.', color='blue')\n",
        "plt.plot(xticks, static_bayes_itr_patients, marker='.', color='orange')\n",
        "plt.title('Bayesian Model: Participants ITR ' + 'Threshold: ' + str(dynamic_threshold_two))\n",
        "plt.xlabel('Participants')\n",
        "plt.ylabel('ITR');\n",
        "plt.legend(['Dynamic', 'Static'], loc='upper left')"
      ],
      "execution_count": null,
      "outputs": [
        {
          "output_type": "execute_result",
          "data": {
            "text/plain": [
              "<matplotlib.legend.Legend at 0x7f45d4c11f10>"
            ]
          },
          "metadata": {},
          "execution_count": 69
        },
        {
          "output_type": "display_data",
          "data": {
            "image/png": "[encoded data removed]",
            "text/plain": [
              "<Figure size 432x288 with 1 Axes>"
            ]
          },
          "metadata": {
            "needs_background": "light"
          }
        }
      ]
    },
    {
      "cell_type": "markdown",
      "metadata": {
        "id": "0gHswXXJvXJ3"
      },
      "source": [
        "#### Time comparing Dynamic EEGNet and Bayesian on sorted patients"
      ]
    },
    {
      "cell_type": "code",
      "metadata": {
        "colab": {
          "base_uri": "https://localhost:8080/"
        },
        "id": "E-DAmPEAv6FS",
        "outputId": "af3ca7fb-6626-44e9-d42b-acc83b1ac26e"
      },
      "source": [
        "static_bayes_time_patients = np.empty([meta['subjects_num']])\n",
        "num_characters_to_predict = meta['trial_num']\n",
        "num_runs = meta['run_num']\n",
        "\n",
        "# Method two\n",
        "dynamic_eegnet_time_patients_method_two = getDynamicTimeOfPatients(eegnet_d_stim_probs_all_patients_method_two, eegnet_dynamic_acc_all_patients_method_two)\n",
        "dynamic_bayes_time_patients_method_two = getDynamicTimeOfPatients(bayes_d_stim_probs_all_patients_method_two, bayes_dynamic_acc_all_patients_method_two)\n",
        "\n",
        "# Static Bayesian\n",
        "for subject in range(meta['subjects_num']):\n",
        "  static_mean_acc = mean(static_bayes_res[subject]['stim_acc'][bayes_ssc_stim - 1])\n",
        "  B, T, itr = calculateITR(static_mean_acc, soa, bayes_ssc_stim, bayes_ssc_stim, iti, meta['stimuli_num'])\n",
        "  static_bayes_time_patients[subject] = T\n",
        "\n",
        "# Convert from minutes to seconds\n",
        "for subject in range(meta['subjects_num']):\n",
        "  dynamic_bayes_time_patients_method_two[subject] *= 60\n",
        "  dynamic_eegnet_time_patients_method_two[subject] *= 60\n",
        "  static_bayes_time_patients[subject] *= 60"
      ],
      "execution_count": null,
      "outputs": [
        {
          "output_type": "stream",
          "name": "stderr",
          "text": [
            "100%|██████████| 10/10 [00:00<00:00, 6429.04it/s]\n",
            "100%|██████████| 10/10 [00:00<00:00, 8671.29it/s]\n"
          ]
        }
      ]
    },
    {
      "cell_type": "code",
      "metadata": {
        "colab": {
          "base_uri": "https://localhost:8080/",
          "height": 312
        },
        "id": "RBdnxvB3wMqo",
        "outputId": "7983a820-017d-419e-84df-5e9a3115928c"
      },
      "source": [
        "static_mean_time = round(mean(static_bayes_time_patients), 2)\n",
        "dynamic_mean_time = round(mean(dynamic_bayes_time_patients_method_two), 2)\n",
        "\n",
        "#Plotting graph\n",
        "xticks = np.arange(1, meta['subjects_num'] + 1)\n",
        "plt.plot(xticks, dynamic_bayes_time_patients_method_two, marker='.')\n",
        "plt.plot(xticks, static_bayes_time_patients, marker='.')\n",
        "plt.title('Bayesian Model: Participants Time: ' + ' Threshold: ' + str(dynamic_threshold_two))\n",
        "plt.xlabel('Participants')\n",
        "plt.ylabel('Time (s)')\n",
        "plt.legend(['Dynamic', 'Static'], loc='upper left')"
      ],
      "execution_count": null,
      "outputs": [
        {
          "output_type": "execute_result",
          "data": {
            "text/plain": [
              "<matplotlib.legend.Legend at 0x7f45d4941690>"
            ]
          },
          "metadata": {},
          "execution_count": 67
        },
        {
          "output_type": "display_data",
          "data": {
            "image/png": "[encoded data removed]",
            "text/plain": [
              "<Figure size 432x288 with 1 Axes>"
            ]
          },
          "metadata": {
            "needs_background": "light"
          }
        }
      ]
    },
    {
      "cell_type": "markdown",
      "metadata": {
        "id": "Y50jGGllrecZ"
      },
      "source": [
        "#### Store graph information in dataframe"
      ]
    },
    {
      "cell_type": "code",
      "metadata": {
        "id": "vEOh2xL8rcUa"
      },
      "source": [
        "bayes_times = np.concatenate((static_bayes_time_patients, dynamic_bayes_time_patients_method_two))\n",
        "bayes_accs = np.concatenate((bayes_static_mean, bayes_dynamic_acc_all_patients_method_two))\n",
        "bayes_itrs = np.concatenate((static_bayes_itr_patients, dynamic_bayes_itr_patients_method_two))\n",
        "\n",
        "concatenated = np.vstack((bayes_accs, bayes_times))\n",
        "\n",
        "dynamic_bayes_df = pd.DataFrame(bayes_times, columns = ['Time'])\n",
        "dynamic_bayes_df['accs']=pd.Series(bayes_accs)\n",
        "dynamic_bayes_df['itrs']=pd.Series(bayes_itrs)\n",
        "\n",
        "# Save to csv\n",
        "dynamic_bayes_df.to_csv(\"graph_data.csv\")"
      ],
      "execution_count": null,
      "outputs": []
    }
  ]
}